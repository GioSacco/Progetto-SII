{
 "cells": [
  {
   "cell_type": "markdown",
   "metadata": {},
   "source": [
    "## Sport challenges - Recommender System"
   ]
  },
  {
   "cell_type": "markdown",
   "metadata": {},
   "source": [
    "#### Non avendo a disposizione un dataset di allenamenti con, per ognuno, un voto per ciascun utente, ed avendo invece un dataset molto sparso, con nessuna informazione in comune tra i vari utenti, ho optato per un approccio Content-based. In tale lavoro ci si baserà quindi sulla somiglianza tra le varie tipologie di allenamento effettuate dai vari utenti per arrivare quindi a stabilire relazioni di somiglianza tra gli interessi, in termini di allenamento, degli utenti stessi. A partire quindi dal dataset principale, si arriverà alla definizione di un Sistema di Raccomandazione che, a partire da un utente, restituirà la lista degli utenti a lui più vicini in termini di tipologie di allenamento."
   ]
  },
  {
   "cell_type": "code",
   "execution_count": 244,
   "metadata": {},
   "outputs": [
    {
     "name": "stdout",
     "output_type": "stream",
     "text": [
      "Requirement already satisfied: numpy==1.20.0 in /Library/Frameworks/Python.framework/Versions/3.9/lib/python3.9/site-packages (from -r requirements.txt (line 1)) (1.20.0)\n",
      "Requirement already satisfied: pandas==1.2.2 in /Library/Frameworks/Python.framework/Versions/3.9/lib/python3.9/site-packages (from -r requirements.txt (line 2)) (1.2.2)\n",
      "Requirement already satisfied: scikit-learn==0.24.1 in /Library/Frameworks/Python.framework/Versions/3.9/lib/python3.9/site-packages (from -r requirements.txt (line 3)) (0.24.1)\n",
      "Requirement already satisfied: fuzzywuzzy==0.18.0 in /Library/Frameworks/Python.framework/Versions/3.9/lib/python3.9/site-packages (from -r requirements.txt (line 4)) (0.18.0)\n",
      "Requirement already satisfied: haversine==2.3.0 in /Library/Frameworks/Python.framework/Versions/3.9/lib/python3.9/site-packages (from -r requirements.txt (line 5)) (2.3.0)\n",
      "Requirement already satisfied: matplotlib==3.3.4 in /Library/Frameworks/Python.framework/Versions/3.9/lib/python3.9/site-packages (from -r requirements.txt (line 6)) (3.3.4)\n",
      "Requirement already satisfied: pillow>=6.2.0 in /Library/Frameworks/Python.framework/Versions/3.9/lib/python3.9/site-packages (from matplotlib==3.3.4->-r requirements.txt (line 6)) (8.1.0)\n",
      "Requirement already satisfied: python-dateutil>=2.1 in /Library/Frameworks/Python.framework/Versions/3.9/lib/python3.9/site-packages (from matplotlib==3.3.4->-r requirements.txt (line 6)) (2.8.1)\n",
      "Requirement already satisfied: pyparsing!=2.0.4,!=2.1.2,!=2.1.6,>=2.0.3 in /Library/Frameworks/Python.framework/Versions/3.9/lib/python3.9/site-packages (from matplotlib==3.3.4->-r requirements.txt (line 6)) (2.4.7)\n",
      "Requirement already satisfied: kiwisolver>=1.0.1 in /Library/Frameworks/Python.framework/Versions/3.9/lib/python3.9/site-packages (from matplotlib==3.3.4->-r requirements.txt (line 6)) (1.3.1)\n",
      "Requirement already satisfied: cycler>=0.10 in /Library/Frameworks/Python.framework/Versions/3.9/lib/python3.9/site-packages (from matplotlib==3.3.4->-r requirements.txt (line 6)) (0.10.0)\n",
      "Requirement already satisfied: pytz>=2017.3 in /Library/Frameworks/Python.framework/Versions/3.9/lib/python3.9/site-packages (from pandas==1.2.2->-r requirements.txt (line 2)) (2021.1)\n",
      "Requirement already satisfied: threadpoolctl>=2.0.0 in /Library/Frameworks/Python.framework/Versions/3.9/lib/python3.9/site-packages (from scikit-learn==0.24.1->-r requirements.txt (line 3)) (2.1.0)\n",
      "Requirement already satisfied: joblib>=0.11 in /Library/Frameworks/Python.framework/Versions/3.9/lib/python3.9/site-packages (from scikit-learn==0.24.1->-r requirements.txt (line 3)) (1.0.1)\n",
      "Requirement already satisfied: scipy>=0.19.1 in /Library/Frameworks/Python.framework/Versions/3.9/lib/python3.9/site-packages (from scikit-learn==0.24.1->-r requirements.txt (line 3)) (1.5.4)\n",
      "Requirement already satisfied: six in /Library/Frameworks/Python.framework/Versions/3.9/lib/python3.9/site-packages (from cycler>=0.10->matplotlib==3.3.4->-r requirements.txt (line 6)) (1.15.0)\n"
     ]
    }
   ],
   "source": [
    "!pip3 install -r requirements.txt"
   ]
  },
  {
   "cell_type": "code",
   "execution_count": 231,
   "metadata": {},
   "outputs": [],
   "source": [
    "import pandas as pd\n",
    "import numpy as np\n",
    "import datetime\n",
    "import haversine as hs\n",
    "import datetime\n",
    "import statistics\n",
    "from sklearn.metrics.pairwise import cosine_similarity\n",
    "from sklearn.metrics import mean_squared_error\n",
    "from sklearn.model_selection import train_test_split\n",
    "from sklearn.feature_extraction.text import TfidfVectorizer\n",
    "from sklearn.metrics.pairwise import linear_kernel"
   ]
  },
  {
   "cell_type": "markdown",
   "metadata": {},
   "source": [
    "#### Leggo dal dataset ( https://sites.google.com/eng.ucsd.edu/fitrec-project/home ) i dati relativi a tutte le sessioni di allenamento. Ho optato per l'utilizzo del dataset endomondoHR_proper.json in quanto rappresenta un giusto compromesso tra la versione completa e quella semplificata / normalizzata."
   ]
  },
  {
   "cell_type": "code",
   "execution_count": 7,
   "metadata": {},
   "outputs": [],
   "source": [
    "data = []\n",
    "with open('./endomondoHR_proper.json') as f:\n",
    "    for l in f:\n",
    "        data.append(eval(l))"
   ]
  },
  {
   "cell_type": "markdown",
   "metadata": {},
   "source": [
    "#### Funzione che effettua il calcolo della distanza totale di un singolo allenamento (km) a partire dalla lista delle coordinate"
   ]
  },
  {
   "cell_type": "code",
   "execution_count": 8,
   "metadata": {},
   "outputs": [],
   "source": [
    "def calculate_tranining_distance(single_training):\n",
    "    total_distance = 0\n",
    "    \n",
    "    for index in range(len(single_training['latitude'])-2):\n",
    "        lat1 = single_training['latitude'][index]\n",
    "        lon1 = single_training['longitude'][index]\n",
    "        lat2 = single_training['latitude'][index+1]\n",
    "        lon2 = single_training['longitude'][index+1]\n",
    "\n",
    "        loc1=(lat1,lon1)\n",
    "        loc2=(lat2,lon2)\n",
    "        total_distance = total_distance + hs.haversine(loc1,loc2)\n",
    "        \n",
    "    return int(total_distance)"
   ]
  },
  {
   "cell_type": "markdown",
   "metadata": {},
   "source": [
    "#### Funzione che effettua il calcolo della durata totale del singolo allenamento (minuti) a partire dalla lista di timestam"
   ]
  },
  {
   "cell_type": "code",
   "execution_count": 9,
   "metadata": {},
   "outputs": [],
   "source": [
    "def calculate_training_duration(single_training):\n",
    "    start = single_training['timestamp'][0]\n",
    "    finish = single_training['timestamp'][-1]\n",
    "    \n",
    "    start_date = datetime.datetime.fromtimestamp(start)\n",
    "    finish_date = datetime.datetime.fromtimestamp(finish)\n",
    "    \n",
    "    difference = finish_date - start_date\n",
    "    seconds_in_day = 24 * 60 * 60\n",
    "    datetime.timedelta(0, 8, 562000)\n",
    "    \n",
    "    return int(divmod(difference.days * seconds_in_day + difference.seconds, 60)[0])"
   ]
  },
  {
   "cell_type": "markdown",
   "metadata": {},
   "source": [
    "#### Funziona che effettua il calcolo della velocità media dell'allenamento (km/h) a partire dalla distanza totale e il tempo impiegato"
   ]
  },
  {
   "cell_type": "code",
   "execution_count": 10,
   "metadata": {},
   "outputs": [],
   "source": [
    "def calculate_avg(distance, duration):\n",
    "    if(duration > 0):\n",
    "        return int((distance / (duration/60)))\n",
    "    return 0"
   ]
  },
  {
   "cell_type": "markdown",
   "metadata": {},
   "source": [
    "#### Funzione che effettua il calcolo della media dei battiti cardiaci a partire dalla lista contenente i campioni di battiti rilevati durante l'allenamento"
   ]
  },
  {
   "cell_type": "code",
   "execution_count": 11,
   "metadata": {},
   "outputs": [],
   "source": [
    "def calculate_hear_rate_avg(single_training):\n",
    "    return int(statistics.median(single_training['heart_rate']))"
   ]
  },
  {
   "cell_type": "markdown",
   "metadata": {},
   "source": [
    "#### Funzione che effettua il calcolo del dislivello totale dell'allenamento a partire dalla lista contenente i campioni dell'altitude rilevata"
   ]
  },
  {
   "cell_type": "code",
   "execution_count": 12,
   "metadata": {},
   "outputs": [],
   "source": [
    "def calculate_altitude_difference(single_training):\n",
    "    total_altitude_difference = 0\n",
    "    \n",
    "    for index in range(len(single_training['altitude'])-2):\n",
    "        if(single_training['altitude'][index + 1] >= single_training['altitude'][index]):\n",
    "            total_altitude_difference = total_altitude_difference + (single_training['altitude'][index + 1] - single_training['altitude'][index])\n",
    "        else:\n",
    "            total_altitude_difference = total_altitude_difference + (single_training['altitude'][index] - single_training['altitude'][index + 1])\n",
    "        \n",
    "    return int(total_altitude_difference)"
   ]
  },
  {
   "cell_type": "markdown",
   "metadata": {},
   "source": [
    "#### Funzione che trasforma la descrizione testuale del sesso in 1 (uomo) e 2 (donna)"
   ]
  },
  {
   "cell_type": "code",
   "execution_count": 13,
   "metadata": {},
   "outputs": [],
   "source": [
    "def transform_sex_value(single_training):\n",
    "    if(single_training['gender'] == 'male'):\n",
    "        return 1\n",
    "    else:\n",
    "        return 2"
   ]
  },
  {
   "cell_type": "markdown",
   "metadata": {},
   "source": [
    "#### Funzione che trasforma la descrizione testuale dello sport in 1 (bike) e 2 (run)"
   ]
  },
  {
   "cell_type": "code",
   "execution_count": 232,
   "metadata": {},
   "outputs": [],
   "source": [
    "def transform_sport_value(single_training):\n",
    "    if single_training['sport'] == 'bike' or single_training['sport'] == 'bike (transport)':\n",
    "        return 1\n",
    "    else:\n",
    "        return 2"
   ]
  },
  {
   "cell_type": "markdown",
   "metadata": {},
   "source": [
    "#### A partire dal dataset iniziale, viene creata una nuova lista contenente una versione rielaborata dei dati degli allenamenti (calcolo della distanza totale, calcolo della velocità media, calcolo della frequenza cardiaca media, calcolo del dislivello, calcolo della durata totale) in modo tale da consentirne una migliore fruzione ed analisi delle informazioni contenute."
   ]
  },
  {
   "cell_type": "code",
   "execution_count": 15,
   "metadata": {},
   "outputs": [],
   "source": [
    "reworkedData = []\n",
    "for i in data:\n",
    "        reworkedItem = {}\n",
    "        reworkedItem['userId'] = i['userId']\n",
    "        reworkedItem['id'] = i['id']\n",
    "        reworkedItem['gender'] = transform_sex_value(i)\n",
    "        reworkedItem['sport'] = transform_sport_value(i)\n",
    "        reworkedItem['distance'] = calculate_tranining_distance(i)\n",
    "        reworkedItem['duration'] = calculate_training_duration(i)\n",
    "        reworkedItem['avg'] = calculate_avg(reworkedItem['distance'], reworkedItem['duration'])\n",
    "        reworkedItem['heart_rate_avg'] = calculate_hear_rate_avg(i)\n",
    "        reworkedItem['altitude_difference'] = calculate_altitude_difference(i)\n",
    "        reworkedData.append(reworkedItem)"
   ]
  },
  {
   "cell_type": "markdown",
   "metadata": {},
   "source": [
    "#### A partire dalla nuova lista creata, si genera un nuovo dataset corrispondente"
   ]
  },
  {
   "cell_type": "code",
   "execution_count": 233,
   "metadata": {},
   "outputs": [
    {
     "data": {
      "text/html": [
       "<div>\n",
       "<style scoped>\n",
       "    .dataframe tbody tr th:only-of-type {\n",
       "        vertical-align: middle;\n",
       "    }\n",
       "\n",
       "    .dataframe tbody tr th {\n",
       "        vertical-align: top;\n",
       "    }\n",
       "\n",
       "    .dataframe thead th {\n",
       "        text-align: right;\n",
       "    }\n",
       "</style>\n",
       "<table border=\"1\" class=\"dataframe\">\n",
       "  <thead>\n",
       "    <tr style=\"text-align: right;\">\n",
       "      <th></th>\n",
       "      <th>userId</th>\n",
       "      <th>id</th>\n",
       "      <th>gender</th>\n",
       "      <th>sport</th>\n",
       "      <th>distance</th>\n",
       "      <th>duration</th>\n",
       "      <th>avg</th>\n",
       "      <th>heart_rate_avg</th>\n",
       "      <th>altitude_difference</th>\n",
       "    </tr>\n",
       "  </thead>\n",
       "  <tbody>\n",
       "    <tr>\n",
       "      <th>0</th>\n",
       "      <td>10921915</td>\n",
       "      <td>396826535</td>\n",
       "      <td>1</td>\n",
       "      <td>1</td>\n",
       "      <td>52</td>\n",
       "      <td>126</td>\n",
       "      <td>24</td>\n",
       "      <td>153</td>\n",
       "      <td>818</td>\n",
       "    </tr>\n",
       "    <tr>\n",
       "      <th>1</th>\n",
       "      <td>10921915</td>\n",
       "      <td>392337038</td>\n",
       "      <td>1</td>\n",
       "      <td>1</td>\n",
       "      <td>32</td>\n",
       "      <td>74</td>\n",
       "      <td>25</td>\n",
       "      <td>148</td>\n",
       "      <td>454</td>\n",
       "    </tr>\n",
       "    <tr>\n",
       "      <th>2</th>\n",
       "      <td>10921915</td>\n",
       "      <td>389643739</td>\n",
       "      <td>1</td>\n",
       "      <td>1</td>\n",
       "      <td>45</td>\n",
       "      <td>112</td>\n",
       "      <td>24</td>\n",
       "      <td>141</td>\n",
       "      <td>681</td>\n",
       "    </tr>\n",
       "    <tr>\n",
       "      <th>3</th>\n",
       "      <td>10921915</td>\n",
       "      <td>386729739</td>\n",
       "      <td>1</td>\n",
       "      <td>1</td>\n",
       "      <td>32</td>\n",
       "      <td>75</td>\n",
       "      <td>25</td>\n",
       "      <td>148</td>\n",
       "      <td>479</td>\n",
       "    </tr>\n",
       "    <tr>\n",
       "      <th>4</th>\n",
       "      <td>10921915</td>\n",
       "      <td>383186560</td>\n",
       "      <td>1</td>\n",
       "      <td>1</td>\n",
       "      <td>11</td>\n",
       "      <td>22</td>\n",
       "      <td>30</td>\n",
       "      <td>170</td>\n",
       "      <td>196</td>\n",
       "    </tr>\n",
       "  </tbody>\n",
       "</table>\n",
       "</div>"
      ],
      "text/plain": [
       "     userId         id gender sport distance duration avg heart_rate_avg  \\\n",
       "0  10921915  396826535      1     1       52      126  24            153   \n",
       "1  10921915  392337038      1     1       32       74  25            148   \n",
       "2  10921915  389643739      1     1       45      112  24            141   \n",
       "3  10921915  386729739      1     1       32       75  25            148   \n",
       "4  10921915  383186560      1     1       11       22  30            170   \n",
       "\n",
       "  altitude_difference  \n",
       "0                 818  \n",
       "1                 454  \n",
       "2                 681  \n",
       "3                 479  \n",
       "4                 196  "
      ]
     },
     "execution_count": 233,
     "metadata": {},
     "output_type": "execute_result"
    }
   ],
   "source": [
    "reworkedCompleteDataSet = pd.DataFrame(reworkedData)\n",
    "\n",
    "# Elimino le row contenenti dati degli allenamenti non significativi\n",
    "reworkedCompleteDataSet = reworkedCompleteDataSet[(reworkedCompleteDataSet==0).sum(axis=1)/len(reworkedCompleteDataSet.columns) <= 0.000]\n",
    "\n",
    "# Per facilitare le operazioni successive, trasformo in stringa tutti i dati contenuti del dataset\n",
    "reworkedCompleteDataSet = reworkedCompleteDataSet.astype(str)\n",
    "\n",
    "reworkedCompleteDataSet.head(5)"
   ]
  },
  {
   "cell_type": "markdown",
   "metadata": {},
   "source": [
    "#### Funzione che associa ad ogni utente una stringa rappresentante tutti i dati relativi agli allenamenti da lui effettuati."
   ]
  },
  {
   "cell_type": "code",
   "execution_count": 207,
   "metadata": {},
   "outputs": [],
   "source": [
    "def getTrainingString(trainingData, usersDictionary):\n",
    "    oldString = usersDictionary[trainingData['userId']]\n",
    "    if(oldString != ''):\n",
    "        newString = oldString +' '+ trainingData['heart_rate_avg']+ '-' +trainingData['gender']+ '-' + trainingData['sport']+ '-' + trainingData['distance']+ '-' + trainingData['duration']+ '-' + trainingData['avg']+ '-' + trainingData['altitude_difference']\n",
    "    else:\n",
    "        newString = trainingData['heart_rate_avg']+ '-' +trainingData['gender']+ '-' + trainingData['sport']+ '-' + trainingData['distance']+ '-' + trainingData['duration']+ '-' + trainingData['avg']+ '-' + trainingData['altitude_difference']\n",
    "    return newString"
   ]
  },
  {
   "cell_type": "markdown",
   "metadata": {},
   "source": [
    "#### Si crea ora un dictionary contenente la lista degli utenti con associata la stringa corrispondente agli allenamenti fatti."
   ]
  },
  {
   "cell_type": "code",
   "execution_count": 208,
   "metadata": {},
   "outputs": [],
   "source": [
    "usersDictionary = {}\n",
    "\n",
    "for index, row in reworkedCompleteDataSet.iterrows():\n",
    "    if(row['userId'] not in usersDictionary):\n",
    "        usersDictionary.update({row['userId']: ''})\n",
    "        usersDictionary[row['userId']] = getTrainingString(row,usersDictionary)\n",
    "    else:\n",
    "        usersDictionary[row['userId']] = getTrainingString(row,usersDictionary)"
   ]
  },
  {
   "cell_type": "markdown",
   "metadata": {},
   "source": [
    "#### Creo ora un nuvo dataset corrispondente al dictionary sopra citato. Tale dataset conterrà quindi la lista degli utenti con associata la stringa corrispondente ai dati degli allenamenti effettuati. Viene implementata dunque questa trasformazione dei dati per consentire la successiva gestione di tali informazioni tramite TFIDF e la cosine similarity. Si andrà quindi a verificare la \"vicinanza\" tra gli allenamenti effettuati da un utente con quelli di un altro tramite il tipico approccio utilizzato per i documenti testuali: gli allenamenti di ogni utente vengono difatti interpretati come un singolo documento composto da più frasi (dati dei singoli allenamenti)."
   ]
  },
  {
   "cell_type": "code",
   "execution_count": 237,
   "metadata": {},
   "outputs": [
    {
     "data": {
      "text/html": [
       "<div>\n",
       "<style scoped>\n",
       "    .dataframe tbody tr th:only-of-type {\n",
       "        vertical-align: middle;\n",
       "    }\n",
       "\n",
       "    .dataframe tbody tr th {\n",
       "        vertical-align: top;\n",
       "    }\n",
       "\n",
       "    .dataframe thead th {\n",
       "        text-align: right;\n",
       "    }\n",
       "</style>\n",
       "<table border=\"1\" class=\"dataframe\">\n",
       "  <thead>\n",
       "    <tr style=\"text-align: right;\">\n",
       "      <th></th>\n",
       "      <th>userId</th>\n",
       "      <th>training_data</th>\n",
       "    </tr>\n",
       "  </thead>\n",
       "  <tbody>\n",
       "    <tr>\n",
       "      <th>0</th>\n",
       "      <td>10921915</td>\n",
       "      <td>153-1-1-52-126-24-818 148-1-1-32-74-25-454 141...</td>\n",
       "    </tr>\n",
       "    <tr>\n",
       "      <th>1</th>\n",
       "      <td>4969375</td>\n",
       "      <td>115-1-2-8-64-7-761 144-1-2-14-70-12-205 128-1-...</td>\n",
       "    </tr>\n",
       "    <tr>\n",
       "      <th>2</th>\n",
       "      <td>430859</td>\n",
       "      <td>130-1-1-37-104-21-226 137-1-1-59-168-21-617 13...</td>\n",
       "    </tr>\n",
       "    <tr>\n",
       "      <th>3</th>\n",
       "      <td>279317</td>\n",
       "      <td>151-2-2-5-28-10-84 115-2-1-16-47-20-339 129-2-...</td>\n",
       "    </tr>\n",
       "    <tr>\n",
       "      <th>4</th>\n",
       "      <td>3905196</td>\n",
       "      <td>141-1-2-14-79-10-713 140-1-2-12-63-11-652 137-...</td>\n",
       "    </tr>\n",
       "  </tbody>\n",
       "</table>\n",
       "</div>"
      ],
      "text/plain": [
       "     userId                                      training_data\n",
       "0  10921915  153-1-1-52-126-24-818 148-1-1-32-74-25-454 141...\n",
       "1   4969375  115-1-2-8-64-7-761 144-1-2-14-70-12-205 128-1-...\n",
       "2    430859  130-1-1-37-104-21-226 137-1-1-59-168-21-617 13...\n",
       "3    279317  151-2-2-5-28-10-84 115-2-1-16-47-20-339 129-2-...\n",
       "4   3905196  141-1-2-14-79-10-713 140-1-2-12-63-11-652 137-..."
      ]
     },
     "execution_count": 237,
     "metadata": {},
     "output_type": "execute_result"
    }
   ],
   "source": [
    "usersJson = []\n",
    "\n",
    "for userId,training_data in usersDictionary.items():\n",
    "    usersJson.append({\n",
    "        'userId': userId,\n",
    "        'training_data': training_data\n",
    "    })\n",
    "    \n",
    "usersTrainingDataSet = pd.DataFrame(usersJson)\n",
    "usersTrainingDataSet.head()"
   ]
  },
  {
   "cell_type": "markdown",
   "metadata": {},
   "source": [
    "#### Applico la funzione peso TF-IDF al dataset usersTrainingDataSet ed effettuo il calcolo della cosine similarity"
   ]
  },
  {
   "cell_type": "code",
   "execution_count": 240,
   "metadata": {},
   "outputs": [],
   "source": [
    "tfidf = TfidfVectorizer(stop_words='english')\n",
    "usersTrainingDataSet['training_data'] = usersTrainingDataSet['training_data'].fillna('')\n",
    "overview_matrix = tfidf.fit_transform(usersTrainingDataSet['training_data'])\n",
    "\n",
    "similarity_matrix = linear_kernel(overview_matrix,overview_matrix)\n",
    "\n",
    "mapping = pd.Series(usersTrainingDataSet.index,index = usersTrainingDataSet['userId'])"
   ]
  },
  {
   "cell_type": "markdown",
   "metadata": {},
   "source": [
    "#### Funzione che implementa la ricerca degli utenti con gli allenamenti più simili a quelli dell'utente passato come parametro"
   ]
  },
  {
   "cell_type": "code",
   "execution_count": 241,
   "metadata": {},
   "outputs": [],
   "source": [
    "def recommend_movies_based_on_plot(movie_input):\n",
    "    movie_index = mapping[movie_input]\n",
    "    #get similarity values with other movies\n",
    "    #similarity_score is the list of index and similarity matrix\n",
    "    similarity_score = list(enumerate(similarity_matrix[movie_index]))\n",
    "    #sort in descending order the similarity score of movie inputted with all the other movies\n",
    "    similarity_score = sorted(similarity_score, key=lambda x: x[1], reverse=True)\n",
    "    # Get the scores of the 10 most similar movies. Ignore the first movie.\n",
    "    similarity_score = similarity_score[1:10]\n",
    "    #return movie names using the mapping series\n",
    "    movie_indices = [i[0] for i in similarity_score]\n",
    "    return (usersTrainingDataSet['userId'].iloc[movie_indices])"
   ]
  },
  {
   "cell_type": "code",
   "execution_count": 243,
   "metadata": {},
   "outputs": [
    {
     "data": {
      "text/plain": [
       "317      791908\n",
       "609     2894897\n",
       "74       260784\n",
       "842     3411439\n",
       "263     3276737\n",
       "417     2587574\n",
       "625     6000431\n",
       "189     6113340\n",
       "1038    3021311\n",
       "Name: userId, dtype: object"
      ]
     },
     "execution_count": 243,
     "metadata": {},
     "output_type": "execute_result"
    }
   ],
   "source": [
    "recommend_movies_based_on_plot('11884453')"
   ]
  },
  {
   "cell_type": "code",
   "execution_count": 230,
   "metadata": {},
   "outputs": [
    {
     "name": "stdout",
     "output_type": "stream",
     "text": [
      "       userId                                      training_data\n",
      "399  11884453  151-1-2-16-82-11-196 132-1-1-127-283-26-1175 1...\n",
      "     userId                                      training_data\n",
      "317  791908  132-1-2-23-137-10-1338 138-1-1-48-112-25-957 1...\n",
      "      userId                                      training_data\n",
      "609  2894897  139-1-2-10-86-6-411 90-1-2-10-57-10-74 123-1-2...\n",
      "      userId                                      training_data\n",
      "625  6000431  138-1-1-64-148-25-1046 148-1-1-86-183-28-1189 ...\n",
      "   userId                                      training_data\n",
      "31  16786  138-1-2-39-239-9-531 134-1-1-27-62-26-369 149-...\n"
     ]
    }
   ],
   "source": [
    "print(usersTrainingDataSet.loc[[usersTrainingDataSet.index[usersTrainingDataSet['userId'] == '11884453'].tolist()[0]]])\n",
    "print(usersTrainingDataSet.loc[[usersTrainingDataSet.index[usersTrainingDataSet['userId'] == '791908'].tolist()[0]]])\n",
    "print(usersTrainingDataSet.loc[[usersTrainingDataSet.index[usersTrainingDataSet['userId'] == '2894897'].tolist()[0]]])\n",
    "print(usersTrainingDataSet.loc[[usersTrainingDataSet.index[usersTrainingDataSet['userId'] == '6000431'].tolist()[0]]])\n",
    "print(usersTrainingDataSet.loc[[usersTrainingDataSet.index[usersTrainingDataSet['userId'] == '16786'].tolist()[0]]])\n",
    "\n"
   ]
  },
  {
   "cell_type": "code",
   "execution_count": null,
   "metadata": {},
   "outputs": [],
   "source": []
  }
 ],
 "metadata": {
  "kernelspec": {
   "display_name": "Python 3",
   "language": "python",
   "name": "python3"
  },
  "language_info": {
   "codemirror_mode": {
    "name": "ipython",
    "version": 3
   },
   "file_extension": ".py",
   "mimetype": "text/x-python",
   "name": "python",
   "nbconvert_exporter": "python",
   "pygments_lexer": "ipython3",
   "version": "3.9.1"
  }
 },
 "nbformat": 4,
 "nbformat_minor": 4
}
